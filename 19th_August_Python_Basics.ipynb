{
 "cells": [
  {
   "cell_type": "markdown",
   "id": "6d136848-9d27-4792-b3a9-e8b89b62c0ec",
   "metadata": {},
   "source": [
    "TOPIC: Python Basics Variable : Assignment\n"
   ]
  },
  {
   "cell_type": "markdown",
   "id": "8d59ba33-09bb-4b3b-9951-1f91056b8566",
   "metadata": {},
   "source": [
    "1. Declare two variables, `x` and `y`, and assign them integer values. Swap the\n",
    "values of these variables without using any temporary variable."
   ]
  },
  {
   "cell_type": "code",
   "execution_count": 1,
   "id": "d57ac0dd-fa1e-4914-8e40-b35692cbdb6e",
   "metadata": {},
   "outputs": [
    {
     "name": "stdout",
     "output_type": "stream",
     "text": [
      "Program to Swap two Integer variable\n",
      "\n"
     ]
    }
   ],
   "source": [
    "print(\"Program to Swap two Integer variable\\n\")"
   ]
  },
  {
   "cell_type": "markdown",
   "id": "333c990f-e35a-4cc5-99f4-cf1f99d20bce",
   "metadata": {},
   "source": [
    "Declaring two integer variable"
   ]
  },
  {
   "cell_type": "code",
   "execution_count": 2,
   "id": "e3f50cfb-e58c-4e85-87aa-54b8e577d49a",
   "metadata": {},
   "outputs": [],
   "source": [
    "x = 10 ;\n",
    "y = 15 ;"
   ]
  },
  {
   "cell_type": "code",
   "execution_count": 3,
   "id": "42c06e22-6c41-4e5a-a3a1-c63e15033c26",
   "metadata": {},
   "outputs": [
    {
     "name": "stdout",
     "output_type": "stream",
     "text": [
      "The value of two variable are x:  10  and y :  15\n"
     ]
    }
   ],
   "source": [
    "print(\"The value of two variable are x: \" , x  , \" and y : \" , y )"
   ]
  },
  {
   "cell_type": "markdown",
   "id": "5852509e-3594-4608-8ac5-454fff4ce824",
   "metadata": {},
   "source": [
    "Swaping variable without temporary variable"
   ]
  },
  {
   "cell_type": "code",
   "execution_count": 4,
   "id": "386990c3-df1a-4309-8acd-60aa98db53fb",
   "metadata": {},
   "outputs": [],
   "source": [
    "x = x + y\n",
    "y = x - y\n",
    "x = x - y"
   ]
  },
  {
   "cell_type": "code",
   "execution_count": 5,
   "id": "88d53947-0993-4cff-8562-a7da2ef49312",
   "metadata": {},
   "outputs": [
    {
     "name": "stdout",
     "output_type": "stream",
     "text": [
      "The value of two variable are x:  15  and y :  10\n"
     ]
    }
   ],
   "source": [
    "print(\"The value of two variable are x: \" , x  , \" and y : \" , y )"
   ]
  },
  {
   "cell_type": "markdown",
   "id": "e0e20971-4d0e-4368-af84-c6cd69d7ed43",
   "metadata": {},
   "source": [
    "---------------------------------------------------------------------------------------------------------------------------"
   ]
  },
  {
   "cell_type": "markdown",
   "id": "be73ce46-4b2b-4e41-8d7f-c49dbfd1ee70",
   "metadata": {},
   "source": [
    "2. Create a program that calculates the area of a rectangle. Take the length and\n",
    "width as inputs from the user and store them in variables. Calculate and\n",
    "display the area."
   ]
  },
  {
   "cell_type": "code",
   "execution_count": 6,
   "id": "5c7755c1-a8b3-45b3-b773-9c4af71c8541",
   "metadata": {},
   "outputs": [
    {
     "name": "stdout",
     "output_type": "stream",
     "text": [
      "Program to Calculate Area of Rectangle\n",
      "\n"
     ]
    }
   ],
   "source": [
    "print(\"Program to Calculate Area of Rectangle\\n\")"
   ]
  },
  {
   "cell_type": "code",
   "execution_count": 9,
   "id": "328d7af9-b9b7-4a39-804b-5a86116bb0a3",
   "metadata": {},
   "outputs": [
    {
     "name": "stdin",
     "output_type": "stream",
     "text": [
      "What is the length of the  rectangle in unit ? 2\n",
      "What is the width of the  rectangle in unit ? 3\n"
     ]
    }
   ],
   "source": [
    "l = float(input(\"What is the length of the  rectangle in unit ?\")) ;\n",
    "\n",
    "w = float(input(\"What is the width of the  rectangle in unit ?\")) ;"
   ]
  },
  {
   "cell_type": "markdown",
   "id": "c715c4ce-6e75-4e27-ae12-98a79bfd8025",
   "metadata": {},
   "source": [
    "Calculating area of rectangle"
   ]
  },
  {
   "cell_type": "code",
   "execution_count": 10,
   "id": "a8e63d91-072c-4b46-977c-2a881252e2b1",
   "metadata": {},
   "outputs": [],
   "source": [
    "a = l * w"
   ]
  },
  {
   "cell_type": "markdown",
   "id": "2bf274ba-097d-4308-a0d8-d62c7c2e9dbb",
   "metadata": {},
   "source": [
    "Printing area of rectangle"
   ]
  },
  {
   "cell_type": "code",
   "execution_count": 11,
   "id": "e1363666-4043-4aa8-bb00-b4683d778c9c",
   "metadata": {},
   "outputs": [
    {
     "name": "stdout",
     "output_type": "stream",
     "text": [
      "Area of your rectangle is :  6.0 Square Unit\n"
     ]
    }
   ],
   "source": [
    "\n",
    "print(\"Area of your rectangle is : \", a , \"Square Unit\") ;"
   ]
  },
  {
   "cell_type": "markdown",
   "id": "7e3be66f-0c4a-469c-9d83-57d5f705f7e6",
   "metadata": {},
   "source": [
    "---------------------------------------------------------------------------------------------------------------------\n"
   ]
  },
  {
   "cell_type": "markdown",
   "id": "e026eaa6-2cc2-4f05-95ae-89b1f9079efd",
   "metadata": {},
   "source": [
    "3. Write a Python program that converts temperatures from Celsius to\n",
    "Fahrenheit. Take the temperature in Celsius as input, store it in a variable,\n",
    "convert it to Fahrenheit, and display the result."
   ]
  },
  {
   "cell_type": "code",
   "execution_count": 12,
   "id": "9091db92-f0d6-45e2-8fa4-344871467062",
   "metadata": {},
   "outputs": [
    {
     "name": "stdout",
     "output_type": "stream",
     "text": [
      "Program to convert converts temperatures from Celsius to Fahrenheit\n",
      "\n"
     ]
    }
   ],
   "source": [
    "print(\"Program to convert converts temperatures from Celsius to Fahrenheit\\n\")"
   ]
  },
  {
   "cell_type": "markdown",
   "id": "27a9ea53-4945-44c2-80c5-529646e9fe3e",
   "metadata": {},
   "source": [
    "Take user input in Celsius"
   ]
  },
  {
   "cell_type": "code",
   "execution_count": 14,
   "id": "0b02e89c-b4f4-4cfd-87bc-d409a3238e07",
   "metadata": {},
   "outputs": [
    {
     "name": "stdin",
     "output_type": "stream",
     "text": [
      "what is the temperature in Celsius ?  12\n"
     ]
    }
   ],
   "source": [
    "    \n",
    "c = int(input(\"what is the temperature in Celsius ? \")) ;"
   ]
  },
  {
   "cell_type": "markdown",
   "id": "c233ce78-2f51-4665-898b-fe5ce59e4a38",
   "metadata": {},
   "source": [
    "Converting C To F"
   ]
  },
  {
   "cell_type": "code",
   "execution_count": 15,
   "id": "92a6a77a-7389-4daf-b0ab-63c1f182a1fd",
   "metadata": {},
   "outputs": [],
   "source": [
    "f = ( 9 / 5 ) * c + 32 ;"
   ]
  },
  {
   "cell_type": "markdown",
   "id": "9eeafba4-e436-4729-b739-fdf32eeec4a4",
   "metadata": {},
   "source": [
    "Printing output in Farrenheit"
   ]
  },
  {
   "cell_type": "code",
   "execution_count": 17,
   "id": "29568bb1-29b6-4672-8806-8224610ccc76",
   "metadata": {},
   "outputs": [
    {
     "name": "stdout",
     "output_type": "stream",
     "text": [
      "Your temperature in fahrenheit is :  53.6\n"
     ]
    }
   ],
   "source": [
    "     \n",
    "print(\"Your temperature in fahrenheit is : \", f) ;"
   ]
  },
  {
   "cell_type": "markdown",
   "id": "1934b0c2-6e11-41d1-8a56-215760c4d038",
   "metadata": {},
   "source": [
    "--------------------------------------------------------------------------------------------------------\n"
   ]
  },
  {
   "cell_type": "markdown",
   "id": "672ea5f1-7fa9-4326-9659-31c1f7fd7d31",
   "metadata": {},
   "source": [
    "TOPIC: String Based Questions : Assignment"
   ]
  },
  {
   "cell_type": "markdown",
   "id": "6b7ee175-0b04-4b34-a618-845785cabc0c",
   "metadata": {},
   "source": [
    "1. Write a Python program that takes a string as input and prints the length of the string."
   ]
  },
  {
   "cell_type": "code",
   "execution_count": 18,
   "id": "ba61c0a4-5426-4b2c-b297-02d1ef79c1e7",
   "metadata": {},
   "outputs": [
    {
     "name": "stdout",
     "output_type": "stream",
     "text": [
      "Program to find the length of string \n",
      "\n"
     ]
    }
   ],
   "source": [
    "print(\"Program to find the length of string \\n\")"
   ]
  },
  {
   "cell_type": "markdown",
   "id": "142b31df-4866-4908-b45c-647a5aa2f553",
   "metadata": {},
   "source": [
    "Taking user inout for string"
   ]
  },
  {
   "cell_type": "code",
   "execution_count": 19,
   "id": "ca442af2-bd92-4a8f-8173-7eed9c8f5fab",
   "metadata": {},
   "outputs": [
    {
     "name": "stdin",
     "output_type": "stream",
     "text": [
      "What is your string ?  abhishel\n"
     ]
    }
   ],
   "source": [
    "\n",
    "s = input(\"What is your string ? \") ; "
   ]
  },
  {
   "cell_type": "markdown",
   "id": "3ef715fb-eb94-4b84-b41e-70b98dfd752a",
   "metadata": {},
   "source": [
    "Calculating string length by inbuild string method"
   ]
  },
  {
   "cell_type": "code",
   "execution_count": 20,
   "id": "f938d6dd-5de7-4588-920b-57c16fc083f7",
   "metadata": {},
   "outputs": [],
   "source": [
    "l = len(s) ;"
   ]
  },
  {
   "cell_type": "code",
   "execution_count": 21,
   "id": "f0dc4264-e5e7-4118-992f-fba1de2ae773",
   "metadata": {},
   "outputs": [
    {
     "name": "stdout",
     "output_type": "stream",
     "text": [
      "The length of the your string is  8\n"
     ]
    }
   ],
   "source": [
    "print(\"The length of the your string is \" , l );"
   ]
  },
  {
   "cell_type": "markdown",
   "id": "06d97d28-2f06-4a0f-b58d-768f70b2568f",
   "metadata": {},
   "source": [
    "------------------------------------------------------------------------------------------------------------------"
   ]
  },
  {
   "cell_type": "markdown",
   "id": "fbb9bb13-bdb4-4568-93f6-f035c28d8be7",
   "metadata": {},
   "source": [
    "2. Create a program that takes a sentence from the user and counts the number of vowels (a, e, i, o, u) in the string."
   ]
  },
  {
   "cell_type": "code",
   "execution_count": 22,
   "id": "b338164f-c9e7-485f-a684-bd3ab5b2f388",
   "metadata": {},
   "outputs": [
    {
     "name": "stdout",
     "output_type": "stream",
     "text": [
      "Program to find the number of vowels in the string \n",
      "\n"
     ]
    }
   ],
   "source": [
    "print(\"Program to find the number of vowels in the string \\n\")"
   ]
  },
  {
   "cell_type": "markdown",
   "id": "2fdf1f4f-5e0d-45a1-8ec4-d81e809b9d1c",
   "metadata": {},
   "source": [
    "Take user inout for sentence"
   ]
  },
  {
   "cell_type": "code",
   "execution_count": 23,
   "id": "343a7e44-2e0a-450d-86ab-67cadaca4bd3",
   "metadata": {},
   "outputs": [
    {
     "name": "stdin",
     "output_type": "stream",
     "text": [
      "What is your sentence?  my name is abhishek\n"
     ]
    }
   ],
   "source": [
    "s1 = input(\"What is your sentence? \") ; "
   ]
  },
  {
   "cell_type": "markdown",
   "id": "d4c6082c-66ff-4ce1-a5a2-15cc7b60ef2f",
   "metadata": {},
   "source": [
    "initializing number of vowels to zero"
   ]
  },
  {
   "cell_type": "code",
   "execution_count": 24,
   "id": "29380c94-714b-4dff-b056-a39c6db10b8d",
   "metadata": {},
   "outputs": [],
   "source": [
    "n = 0 ;"
   ]
  },
  {
   "cell_type": "markdown",
   "id": "93016392-c04a-4768-8070-1cc19d97cc6b",
   "metadata": {},
   "source": [
    "Checking each character of sentence after conversing it to lower case using for loop and comparing it with vowels"
   ]
  },
  {
   "cell_type": "code",
   "execution_count": 25,
   "id": "07516ff0-a429-4d0a-95f1-29b4f5190b6b",
   "metadata": {},
   "outputs": [
    {
     "name": "stdout",
     "output_type": "stream",
     "text": [
      "Number of vowels in your string is  6\n"
     ]
    }
   ],
   "source": [
    "\n",
    "for k in s1.lower():\n",
    "    if k == 'a' or k =='e' or k == 'i' or k == 'o' or k == 'u' :\n",
    "        n += 1 \n",
    "print(\"Number of vowels in your string is \" , n )"
   ]
  },
  {
   "cell_type": "markdown",
   "id": "ddeb3005-8192-4705-b329-ec2e426d570f",
   "metadata": {},
   "source": [
    "------------------------------------------------------------------------------------------------------------------"
   ]
  },
  {
   "cell_type": "markdown",
   "id": "2c6ad06e-cf46-4e14-9c91-54daad63cb90",
   "metadata": {},
   "source": [
    "3. Given a string, reverse the order of characters using string slicing and print\n",
    "the reversed string."
   ]
  },
  {
   "cell_type": "code",
   "execution_count": 26,
   "id": "21e6a8e7-8c53-4758-930c-5bee935a6b89",
   "metadata": {},
   "outputs": [
    {
     "name": "stdout",
     "output_type": "stream",
     "text": [
      "Program to reverse the string \n",
      "\n"
     ]
    }
   ],
   "source": [
    "print(\"Program to reverse the string \\n\")"
   ]
  },
  {
   "cell_type": "markdown",
   "id": "ab6d983b-0c9c-42b0-b31b-0ed23e3896d0",
   "metadata": {},
   "source": [
    "Take user input"
   ]
  },
  {
   "cell_type": "code",
   "execution_count": 28,
   "id": "83bb0f34-93e4-4253-8bc8-07a67f128ee9",
   "metadata": {},
   "outputs": [
    {
     "name": "stdin",
     "output_type": "stream",
     "text": [
      "What is your string? \n",
      " abhishek\n"
     ]
    },
    {
     "name": "stdout",
     "output_type": "stream",
     "text": [
      "Your original string is :  abhishek \n",
      "\n"
     ]
    }
   ],
   "source": [
    "s2 = input(\"What is your string? \\n\")\n",
    "print(\"Your original string is : \" , s2 , '\\n')"
   ]
  },
  {
   "cell_type": "markdown",
   "id": "5e8d16e8-5d86-4f09-b49e-4ec09112e9c1",
   "metadata": {},
   "source": [
    "Reversing the string by slicing"
   ]
  },
  {
   "cell_type": "code",
   "execution_count": 29,
   "id": "e07e54b9-b605-47a1-ba19-ec20fe86df3a",
   "metadata": {},
   "outputs": [
    {
     "name": "stdout",
     "output_type": "stream",
     "text": [
      "Your reversed string is :  kehsihba\n"
     ]
    }
   ],
   "source": [
    "s3 = s2[::-1]\n",
    "print(\"Your reversed string is : \" , s3 )"
   ]
  },
  {
   "cell_type": "markdown",
   "id": "40ae55c5-a914-4e30-8bb0-3c71da68757f",
   "metadata": {},
   "source": [
    "------------------------------------------------------------------------------------------------------------"
   ]
  },
  {
   "cell_type": "markdown",
   "id": "68c8893c-7341-40fe-a6eb-6bf9d686fa11",
   "metadata": {},
   "source": [
    "4. Write a program that takes a string as input and checks if it is a palindrome\n",
    "(reads the same forwards and backwards)."
   ]
  },
  {
   "cell_type": "code",
   "execution_count": 30,
   "id": "2f8249cd-e0a2-4f4a-beea-ce99aab29052",
   "metadata": {},
   "outputs": [
    {
     "name": "stdout",
     "output_type": "stream",
     "text": [
      "Prog to check a string is palindrome or not \n",
      "\n"
     ]
    }
   ],
   "source": [
    "print(\"Prog to check a string is palindrome or not \\n\")"
   ]
  },
  {
   "cell_type": "markdown",
   "id": "0ca3c074-562a-429c-9229-3fc754d3fef2",
   "metadata": {},
   "source": [
    "Take user input"
   ]
  },
  {
   "cell_type": "code",
   "execution_count": 31,
   "id": "efccef0f-a4c8-42a5-8434-56380ab4bfaf",
   "metadata": {},
   "outputs": [
    {
     "name": "stdin",
     "output_type": "stream",
     "text": [
      "What is the string to check whether it is palindrome or not ? \n",
      " abhishek\n"
     ]
    }
   ],
   "source": [
    "s4 = input(\"What is the string to check whether it is palindrome or not ? \\n\")"
   ]
  },
  {
   "cell_type": "markdown",
   "id": "69315c5e-cbf4-497f-90f4-104fc010d718",
   "metadata": {},
   "source": [
    "Reverse the string and store it into new variable"
   ]
  },
  {
   "cell_type": "code",
   "execution_count": 32,
   "id": "8fb51d33-3cee-4385-858f-329d7cb8cfcf",
   "metadata": {},
   "outputs": [],
   "source": [
    "s5 = s4[: : -1]"
   ]
  },
  {
   "cell_type": "markdown",
   "id": "18b8a328-0559-4b49-b4e5-0888cd144594",
   "metadata": {},
   "source": [
    "Check the original string and reversed string"
   ]
  },
  {
   "cell_type": "code",
   "execution_count": 33,
   "id": "345f3c9f-5cb2-4606-8ac3-c2848a65c7d0",
   "metadata": {},
   "outputs": [
    {
     "name": "stdout",
     "output_type": "stream",
     "text": [
      "Your string 'abhishek' is not palindrome \n"
     ]
    }
   ],
   "source": [
    "if s4 == s5:\n",
    "    print(\"Your string '\"+ s4 +\"' is palindrome \" )\n",
    "else :\n",
    "    print(\"Your string '\"+ s4 +\"' is not palindrome \" )\n"
   ]
  },
  {
   "cell_type": "markdown",
   "id": "976f4f29-424e-46dc-b3eb-f556cbaa240a",
   "metadata": {},
   "source": [
    "-----------------------------------------------------------------------------------------------------------------------------"
   ]
  },
  {
   "cell_type": "markdown",
   "id": "bc0a9a9b-6a1d-46de-b4d1-6d0b3ce91bdd",
   "metadata": {},
   "source": [
    "5. Create a program that takes a string as input and removes all the spaces from\n",
    "it. Print the modified string without spaces."
   ]
  },
  {
   "cell_type": "code",
   "execution_count": 34,
   "id": "65f6072a-0e75-4009-b159-138fb12beadc",
   "metadata": {},
   "outputs": [
    {
     "name": "stdout",
     "output_type": "stream",
     "text": [
      "Program to remove space from strings \n",
      "\n"
     ]
    }
   ],
   "source": [
    "print(\"Program to remove space from strings \\n\")"
   ]
  },
  {
   "cell_type": "markdown",
   "id": "b8346792-78fb-4539-8576-f2b281cb6ee0",
   "metadata": {},
   "source": [
    "Take user inout"
   ]
  },
  {
   "cell_type": "code",
   "execution_count": 35,
   "id": "f2fc8112-dd78-4815-9b22-222735211de2",
   "metadata": {},
   "outputs": [
    {
     "name": "stdin",
     "output_type": "stream",
     "text": [
      "what is your string ?  my name is abhishek\n"
     ]
    }
   ],
   "source": [
    "\n",
    "s6 = input(\"what is your string ? \")"
   ]
  },
  {
   "cell_type": "markdown",
   "id": "ed30b03f-62d6-4ac7-8108-5240aea0dbea",
   "metadata": {},
   "source": [
    "Create a new string variable"
   ]
  },
  {
   "cell_type": "code",
   "execution_count": 36,
   "id": "e68a4d6c-8096-43da-845b-b62e3b0d579d",
   "metadata": {},
   "outputs": [],
   "source": [
    "s7 = ''"
   ]
  },
  {
   "cell_type": "markdown",
   "id": "36c11bba-2105-480e-b143-671e3903b2ec",
   "metadata": {},
   "source": [
    "Check each character of string for space , if it is nor space append it to new string variable"
   ]
  },
  {
   "cell_type": "code",
   "execution_count": 37,
   "id": "848cb962-7186-4b46-a35e-d0edda8cbba7",
   "metadata": {},
   "outputs": [
    {
     "name": "stdout",
     "output_type": "stream",
     "text": [
      "Your changed string without space is : mynameisabhishek\n"
     ]
    }
   ],
   "source": [
    "for l in s6:\n",
    "    if l != ' ':\n",
    "        s7 = s7 + l\n",
    "        \n",
    "print(\"Your changed string without space is :\" , s7)"
   ]
  },
  {
   "cell_type": "code",
   "execution_count": null,
   "id": "98814e7a-0c2d-4be2-b9a9-d918693ff555",
   "metadata": {},
   "outputs": [],
   "source": []
  }
 ],
 "metadata": {
  "kernelspec": {
   "display_name": "Python 3 (ipykernel)",
   "language": "python",
   "name": "python3"
  },
  "language_info": {
   "codemirror_mode": {
    "name": "ipython",
    "version": 3
   },
   "file_extension": ".py",
   "mimetype": "text/x-python",
   "name": "python",
   "nbconvert_exporter": "python",
   "pygments_lexer": "ipython3",
   "version": "3.10.8"
  }
 },
 "nbformat": 4,
 "nbformat_minor": 5
}
